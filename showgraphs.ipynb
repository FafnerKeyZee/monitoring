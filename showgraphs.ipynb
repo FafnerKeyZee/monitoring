{
 "cells": [
  {
   "cell_type": "code",
   "execution_count": null,
   "id": "15cd8b5e-d6d0-4760-89da-96795306ed29",
   "metadata": {},
   "outputs": [],
   "source": [
    "from jupyter_dash import JupyterDash\n",
    "import dash\n",
    "import dash_core_components as dcc\n",
    "import dash_html_components as html\n",
    "from dash.dependencies import Input, Output\n",
    "import plotly.express as px"
   ]
  },
  {
   "cell_type": "code",
   "execution_count": null,
   "id": "bd06ee61-f988-4d7d-8b41-8ee2812facd2",
   "metadata": {},
   "outputs": [],
   "source": [
    "project_name = ''"
   ]
  },
  {
   "cell_type": "code",
   "execution_count": null,
   "id": "8b698dc5-f022-4a4e-9e1d-4ecec345642c",
   "metadata": {},
   "outputs": [],
   "source": [
    "lookyloo_url='http://127.0.0.1:5100'"
   ]
  },
  {
   "cell_type": "code",
   "execution_count": null,
   "id": "4f877397-cf78-4763-9120-7f350e860ba2",
   "metadata": {},
   "outputs": [],
   "source": [
    "from lookyloo_monitoring.capture_project import CaptureProject"
   ]
  },
  {
   "cell_type": "code",
   "execution_count": null,
   "id": "9718a54a-fb70-4e5e-b770-07f58abda3c5",
   "metadata": {},
   "outputs": [],
   "source": [
    "captures = CaptureProject(project_name, lookyloo_url=lookyloo_url)"
   ]
  },
  {
   "cell_type": "markdown",
   "id": "3ffa42c1-ba81-4d5a-9aef-30db27790762",
   "metadata": {},
   "source": [
    "Uncomment if you want to trigger the captures locally. They are probably already triggered somewhere else. \n",
    "If they are triggered somewhere else, do not forget to copy them into `projects/<name>/`"
   ]
  },
  {
   "cell_type": "code",
   "execution_count": null,
   "id": "a7c203a0-396b-4d0e-af1c-4f5f3b9819b0",
   "metadata": {},
   "outputs": [],
   "source": [
    "# captures.trigger_captures()"
   ]
  },
  {
   "cell_type": "code",
   "execution_count": null,
   "id": "08a51177-e3c1-4947-a3b2-7d9caa6c3a24",
   "metadata": {},
   "outputs": [],
   "source": [
    "captures.make_stats()"
   ]
  },
  {
   "cell_type": "code",
   "execution_count": null,
   "id": "d550a64b-38a1-4c25-9f78-5e89b04f9ad0",
   "metadata": {},
   "outputs": [],
   "source": [
    "JupyterDash.infer_jupyter_proxy_config()"
   ]
  },
  {
   "cell_type": "code",
   "execution_count": null,
   "id": "19387de9-19f9-4bd8-b5e7-f3c10bf105a9",
   "metadata": {},
   "outputs": [],
   "source": [
    "app = JupyterDash(__name__)"
   ]
  },
  {
   "cell_type": "code",
   "execution_count": null,
   "id": "73304619-e274-4c0e-b1cc-f5e68fc9a3fe",
   "metadata": {},
   "outputs": [],
   "source": [
    "app.layout = html.Div([dcc.Graph(id=figure.layout.title.text, figure=figure) for figure in captures.prepare_graphs()])"
   ]
  },
  {
   "cell_type": "code",
   "execution_count": null,
   "id": "502d60eb-f4bb-48a4-b50d-92580c098a37",
   "metadata": {},
   "outputs": [],
   "source": [
    "app.run_server(mode=\"jupyterlab\", debug=True, port=18888)"
   ]
  }
 ],
 "metadata": {
  "kernelspec": {
   "display_name": "Python 3",
   "language": "python",
   "name": "python3"
  },
  "language_info": {
   "codemirror_mode": {
    "name": "ipython",
    "version": 3
   },
   "file_extension": ".py",
   "mimetype": "text/x-python",
   "name": "python",
   "nbconvert_exporter": "python",
   "pygments_lexer": "ipython3",
   "version": "3.9.5"
  }
 },
 "nbformat": 4,
 "nbformat_minor": 5
}
